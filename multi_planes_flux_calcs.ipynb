{
 "cells": [
  {
   "cell_type": "code",
   "execution_count": 1,
   "metadata": {},
   "outputs": [],
   "source": [
    "import numpy as np\n",
    "import h5py\n",
    "import matplotlib.pyplot as plt\n",
    "from general_functions import *\n",
    "from spherical_flux import *\n",
    "from sliceplot import *\n",
    "%load_ext autoreload\n",
    "%autoreload\n",
    "%autoreload 2"
   ]
  },
  {
   "cell_type": "markdown",
   "metadata": {},
   "source": [
    "# For loop to sample many planes:"
   ]
  },
  {
   "cell_type": "code",
   "execution_count": 3,
   "metadata": {},
   "outputs": [],
   "source": [
    "ds_names_all, ds_types_all = get_datasets(load_key='R2349')\n",
    "ds_keys = ['batsrus_mf_10km_3deg_95'] #these lines establish the path to the dataset\n",
    "ds_keys_hr = ['batsrus_mf_5km_15deg_95'] # path to high res data\n",
    "ds_names = {dsk:dsn for dsk, dsn in ds_names_all.items() if dsk in ds_keys}\n",
    "ds_types = {dsk:[dsk] for dsk in ds_keys}\n",
    "ds_names_hr = {dsk:dsn for dsk, dsn in ds_names_all.items() if dsk in ds_keys_hr}\n",
    "ds_types_hr = {dsk:[dsk] for dsk in ds_keys_hr}\n",
    "\n",
    "fields_num_dens = ['O2_p1_number_density']\n",
    "fields_vx = ['O2_p1_velocity_x']\n",
    "fields_vz = ['O2_p1_velocity_z']"
   ]
  },
  {
   "cell_type": "markdown",
   "metadata": {},
   "source": [
    "## Plume:"
   ]
  },
  {
   "cell_type": "code",
   "execution_count": 4,
   "metadata": {},
   "outputs": [],
   "source": [
    "z_planes = np.arange(1.5,3.1,0.1)"
   ]
  },
  {
   "cell_type": "code",
   "execution_count": 5,
   "metadata": {},
   "outputs": [],
   "source": [
    "setup_vals = []\n",
    "f_lr_setup = open('lr_flux_escape_vals_plume.txt','ab')\n",
    "f_lr_setup_vals = (setup_vals)\n",
    "np.savetxt(f_lr_setup, f_lr_setup_vals, delimiter=',', header='flux, escape rate, covered area',fmt='%10.2e', comments='#')\n",
    "f_lr_setup.close()\n",
    "\n",
    "f_hr_setup = open('hr_flux_escape_vals_plume.txt','ab')\n",
    "f_hr_setup_vals = (setup_vals)\n",
    "np.savetxt(f_hr_setup, f_hr_setup_vals, delimiter=',', header='flux, escape rate, covered area',fmt='%10.2e', comments='#')\n",
    "f_hr_setup.close()\n",
    "\n",
    "for i in range(len(z_planes)):\n",
    "\n",
    "    x = np.linspace(-1*z_planes[i], z_planes[i], 40)\n",
    "    y = np.linspace(-1*z_planes[i], z_planes[i], 40)\n",
    "    z = np.repeat(z_planes[i],1600)\n",
    "    meshgrid_x, meshgrid_y = np.meshgrid(x,y)\n",
    "    flat_meshgrid_x = meshgrid_x.flatten()\n",
    "    flat_meshgrid_y = meshgrid_y.flatten()\n",
    "    coords = np.array([flat_meshgrid_x, flat_meshgrid_y, z])\n",
    "    \n",
    "    indxs = get_path_idxs(coords, ds_names, ds_types)\n",
    "    indxs_hr = get_path_idxs(coords, ds_names_hr, ds_types_hr) \n",
    "    vx_data_i = get_all_data(ds_names, ds_types, indxs, fields_vx) \n",
    "    vx_data_i_hr = get_all_data(ds_names_hr, ds_types_hr, indxs_hr, fields_vx)\n",
    "    vz_data_i = get_all_data(ds_names, ds_types, indxs, fields_vz) \n",
    "    vz_data_i_hr = get_all_data(ds_names_hr, ds_types_hr, indxs_hr, fields_vz)\n",
    "    num_dens_data_i = get_all_data(ds_names, ds_types, indxs, fields_num_dens)\n",
    "    num_dens_data_i_hr = get_all_data(ds_names_hr, ds_types_hr, indxs_hr, fields_num_dens)\n",
    "\n",
    "    vx_y_axis_values = vx_data_i['O2_p1_velocity_x']['batsrus_mf_10km_3deg_95'] \n",
    "    vx_y_axis_values_hr = vx_data_i_hr['O2_p1_velocity_x']['batsrus_mf_5km_15deg_95']\n",
    "    vz_y_axis_values = vz_data_i['O2_p1_velocity_z']['batsrus_mf_10km_3deg_95'] \n",
    "    vz_y_axis_values_hr = vz_data_i_hr['O2_p1_velocity_z']['batsrus_mf_5km_15deg_95']\n",
    "    num_dens_y_axis_values = num_dens_data_i['O2_p1_number_density']['batsrus_mf_10km_3deg_95']\n",
    "    num_dens_y_axis_values_hr = num_dens_data_i_hr['O2_p1_number_density']['batsrus_mf_5km_15deg_95']\n",
    "    \n",
    "    flux_z_vals_lr = vz_y_axis_values * num_dens_y_axis_values * 1e5\n",
    "    flux_z_vals_hr = vz_y_axis_values_hr * num_dens_y_axis_values_hr * 1e5\n",
    "    \n",
    "    cv_a = (np.abs(x[0]) + x[-1]) * (np.abs(y[0]) + y[-1])\n",
    "    covered_area = cv_a * (3390.0**2) * 1e10 #covered area of slice in cm^2\n",
    "    escape_rate_lr = np.mean(flux_z_vals_lr) * covered_area\n",
    "    escape_rate_hr = np.mean(flux_z_vals_hr) * covered_area\n",
    "    \n",
    "    f_lr = open('lr_flux_escape_vals_plume.txt','ab')\n",
    "    dataout_lr = np.column_stack((np.mean(flux_z_vals_lr), escape_rate_lr, cv_a))\n",
    "    np.savetxt(f_lr, dataout_lr, delimiter=',',fmt='%10.2e', comments='#')\n",
    "    f_lr.close()\n",
    "    \n",
    "    f_hr = open('hr_flux_escape_vals_plume.txt','ab')\n",
    "    dataout_hr = np.column_stack((np.mean(flux_z_vals_hr), escape_rate_hr, cv_a))\n",
    "    np.savetxt(f_hr, dataout_hr, delimiter=',',fmt='%10.2e', comments='#')\n",
    "    f_hr.close()"
   ]
  },
  {
   "cell_type": "markdown",
   "metadata": {},
   "source": [
    "## Tail:"
   ]
  },
  {
   "cell_type": "code",
   "execution_count": 10,
   "metadata": {},
   "outputs": [],
   "source": [
    "x_planes = np.arange(-1.5,-3.1,-0.1)"
   ]
  },
  {
   "cell_type": "code",
   "execution_count": 11,
   "metadata": {},
   "outputs": [],
   "source": [
    "setup_vals = []\n",
    "f_lr_setup = open('lr_flux_escape_vals_tail.txt','ab')\n",
    "f_lr_setup_vals = (setup_vals)\n",
    "np.savetxt(f_lr_setup, f_lr_setup_vals, delimiter=',', header='flux, escape rate, covered area',fmt='%10.2e', comments='#')\n",
    "f_lr_setup.close()\n",
    "\n",
    "f_hr_setup = open('hr_flux_escape_vals_tail.txt','ab')\n",
    "f_hr_setup_vals = (setup_vals)\n",
    "np.savetxt(f_hr_setup, f_hr_setup_vals, delimiter=',', header='flux, escape rate, covered area',fmt='%10.2e', comments='#')\n",
    "f_hr_setup.close()\n",
    "    \n",
    "for i in range(len(x_planes)):\n",
    "\n",
    "    x = np.repeat(x_planes[i],1600)\n",
    "    y = np.linspace(x_planes[i], -1*x_planes[i], 40)\n",
    "    z = np.linspace(x_planes[i], -1*x_planes[i], 40)\n",
    "    meshgrid_y, meshgrid_z = np.meshgrid(y,z)\n",
    "    flat_meshgrid_y = meshgrid_y.flatten()\n",
    "    flat_meshgrid_z = meshgrid_z.flatten()\n",
    "    coords = np.array([x, flat_meshgrid_y, flat_meshgrid_z])\n",
    "    \n",
    "    indxs = get_path_idxs(coords, ds_names, ds_types)\n",
    "    indxs_hr = get_path_idxs(coords, ds_names_hr, ds_types_hr) \n",
    "    vx_data_i = get_all_data(ds_names, ds_types, indxs, fields_vx) \n",
    "    vx_data_i_hr = get_all_data(ds_names_hr, ds_types_hr, indxs_hr, fields_vx)\n",
    "    vz_data_i = get_all_data(ds_names, ds_types, indxs, fields_vz) \n",
    "    vz_data_i_hr = get_all_data(ds_names_hr, ds_types_hr, indxs_hr, fields_vz)\n",
    "    num_dens_data_i = get_all_data(ds_names, ds_types, indxs, fields_num_dens)\n",
    "    num_dens_data_i_hr = get_all_data(ds_names_hr, ds_types_hr, indxs_hr, fields_num_dens)\n",
    "\n",
    "    vx_y_axis_values = vx_data_i['O2_p1_velocity_x']['batsrus_mf_10km_3deg_95'] \n",
    "    vx_y_axis_values_hr = vx_data_i_hr['O2_p1_velocity_x']['batsrus_mf_5km_15deg_95']\n",
    "    vz_y_axis_values = vz_data_i['O2_p1_velocity_z']['batsrus_mf_10km_3deg_95'] \n",
    "    vz_y_axis_values_hr = vz_data_i_hr['O2_p1_velocity_z']['batsrus_mf_5km_15deg_95']\n",
    "    num_dens_y_axis_values = num_dens_data_i['O2_p1_number_density']['batsrus_mf_10km_3deg_95']\n",
    "    num_dens_y_axis_values_hr = num_dens_data_i_hr['O2_p1_number_density']['batsrus_mf_5km_15deg_95']\n",
    "    \n",
    "    flux_x_vals_lr = vx_y_axis_values * num_dens_y_axis_values * 1e5\n",
    "    flux_x_vals_hr = vx_y_axis_values_hr * num_dens_y_axis_values_hr * 1e5\n",
    "    \n",
    "    cv_a = (np.abs(y[0]) + y[-1]) * (np.abs(z[0]) + z[-1])\n",
    "    covered_area = cv_a * (3390.0**2) * 1e10 #covered area of slice in cm^2\n",
    "    escape_rate_lr = np.mean(flux_x_vals_lr) * covered_area\n",
    "    escape_rate_hr = np.mean(flux_x_vals_hr) * covered_area\n",
    "    \n",
    "    f_lr = open('lr_flux_escape_vals_tail.txt','ab')\n",
    "    dataout_lr = np.column_stack((np.mean(flux_x_vals_lr), escape_rate_lr, cv_a))\n",
    "    np.savetxt(f_lr, dataout_lr, delimiter=',',fmt='%10.2e', comments='#')\n",
    "    f_lr.close()\n",
    "    \n",
    "    f_hr = open('hr_flux_escape_vals_tail.txt','ab')\n",
    "    dataout_hr = np.column_stack((np.mean(flux_x_vals_hr), escape_rate_hr, cv_a))\n",
    "    np.savetxt(f_hr, dataout_hr, delimiter=',',fmt='%10.2e', comments='#')\n",
    "    f_hr.close()"
   ]
  },
  {
   "cell_type": "code",
   "execution_count": null,
   "metadata": {},
   "outputs": [],
   "source": []
  }
 ],
 "metadata": {
  "kernelspec": {
   "display_name": "Python 2",
   "language": "python",
   "name": "python2"
  },
  "language_info": {
   "codemirror_mode": {
    "name": "ipython",
    "version": 2
   },
   "file_extension": ".py",
   "mimetype": "text/x-python",
   "name": "python",
   "nbconvert_exporter": "python",
   "pygments_lexer": "ipython2",
   "version": "2.7.15"
  }
 },
 "nbformat": 4,
 "nbformat_minor": 2
}
